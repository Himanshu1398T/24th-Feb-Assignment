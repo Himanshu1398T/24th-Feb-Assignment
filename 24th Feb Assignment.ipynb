{
 "cells": [
  {
   "cell_type": "markdown",
   "id": "48a6579e",
   "metadata": {},
   "source": [
    "### Q1. List any five functions of the pandas library with execution."
   ]
  },
  {
   "cell_type": "markdown",
   "id": "b2f589d9",
   "metadata": {},
   "source": [
    "#### Ans:\n",
    "1. read_csv: This function is used to read a CSV file and convert it into a pandas DataFrame object.\n",
    "2. head : head(n) is used to return the first n rows of a dataset.\n",
    "2. describe: This function provides descriptive statistics for the numerical columns in a DataFrame.\n",
    "4. DataFrame: This function is used to create a DataFrame object from a variety of data sources, such as lists, dictionaries, NumPy arrays, and other pandas data structures.\n",
    "5. iloc: This function is used for selecting rows and columns from a DataFrame based on their integer position. It takes two arguments, the first for the row index and the second for the column index."
   ]
  },
  {
   "cell_type": "code",
   "execution_count": 1,
   "id": "f4eb4fba",
   "metadata": {},
   "outputs": [
    {
     "name": "stdout",
     "output_type": "stream",
     "text": [
      "   PassengerId  Survived  Pclass  \\\n",
      "0            1         0       3   \n",
      "1            2         1       1   \n",
      "2            3         1       3   \n",
      "3            4         1       1   \n",
      "4            5         0       3   \n",
      "\n",
      "                                                Name     Sex   Age  SibSp  \\\n",
      "0                            Braund, Mr. Owen Harris    male  22.0      1   \n",
      "1  Cumings, Mrs. John Bradley (Florence Briggs Th...  female  38.0      1   \n",
      "2                             Heikkinen, Miss. Laina  female  26.0      0   \n",
      "3       Futrelle, Mrs. Jacques Heath (Lily May Peel)  female  35.0      1   \n",
      "4                           Allen, Mr. William Henry    male  35.0      0   \n",
      "\n",
      "   Parch            Ticket     Fare Cabin Embarked  \n",
      "0      0         A/5 21171   7.2500   NaN        S  \n",
      "1      0          PC 17599  71.2833   C85        C  \n",
      "2      0  STON/O2. 3101282   7.9250   NaN        S  \n",
      "3      0            113803  53.1000  C123        S  \n",
      "4      0            373450   8.0500   NaN        S  \n"
     ]
    }
   ],
   "source": [
    "import pandas as pd\n",
    "data = pd.read_csv('Titanic_Data.csv')\n",
    "print(data.head())"
   ]
  },
  {
   "cell_type": "code",
   "execution_count": 2,
   "id": "27338876",
   "metadata": {},
   "outputs": [
    {
     "name": "stdout",
     "output_type": "stream",
     "text": [
      "       PassengerId    Survived      Pclass         Age       SibSp  \\\n",
      "count   891.000000  891.000000  891.000000  714.000000  891.000000   \n",
      "mean    446.000000    0.383838    2.308642   29.699118    0.523008   \n",
      "std     257.353842    0.486592    0.836071   14.526497    1.102743   \n",
      "min       1.000000    0.000000    1.000000    0.420000    0.000000   \n",
      "25%     223.500000    0.000000    2.000000   20.125000    0.000000   \n",
      "50%     446.000000    0.000000    3.000000   28.000000    0.000000   \n",
      "75%     668.500000    1.000000    3.000000   38.000000    1.000000   \n",
      "max     891.000000    1.000000    3.000000   80.000000    8.000000   \n",
      "\n",
      "            Parch        Fare  \n",
      "count  891.000000  891.000000  \n",
      "mean     0.381594   32.204208  \n",
      "std      0.806057   49.693429  \n",
      "min      0.000000    0.000000  \n",
      "25%      0.000000    7.910400  \n",
      "50%      0.000000   14.454200  \n",
      "75%      0.000000   31.000000  \n",
      "max      6.000000  512.329200  \n"
     ]
    }
   ],
   "source": [
    "print(data.describe())"
   ]
  },
  {
   "cell_type": "code",
   "execution_count": 3,
   "id": "813dc567",
   "metadata": {},
   "outputs": [
    {
     "name": "stdout",
     "output_type": "stream",
     "text": [
      "    Name  Age  Gender\n",
      "0   John   25    Male\n",
      "1  Sarah   30  Female\n",
      "2  Peter   35    Male\n"
     ]
    }
   ],
   "source": [
    "data = {'Name': ['John', 'Sarah', 'Peter'],\n",
    "        'Age': [25, 30, 35],\n",
    "        'Gender': ['Male', 'Female', 'Male']}\n",
    "        \n",
    "df = pd.DataFrame(data)\n",
    "print(df)"
   ]
  },
  {
   "cell_type": "code",
   "execution_count": 4,
   "id": "d31388e7",
   "metadata": {},
   "outputs": [
    {
     "name": "stdout",
     "output_type": "stream",
     "text": [
      "Name       Sarah\n",
      "Age           30\n",
      "Gender    Female\n",
      "Name: 1, dtype: object\n"
     ]
    }
   ],
   "source": [
    "print(df.iloc[1])"
   ]
  },
  {
   "cell_type": "markdown",
   "id": "e9c9ef45",
   "metadata": {},
   "source": [
    "### Q2. Given a Pandas DataFrame df with columns 'A', 'B', and 'C', write a Python function to re-index the DataFrame with a new index that starts from 1 and increments by 2 for each row.\n",
    "\n",
    "#### Ans:"
   ]
  },
  {
   "cell_type": "code",
   "execution_count": 5,
   "id": "8f331671",
   "metadata": {},
   "outputs": [
    {
     "name": "stdout",
     "output_type": "stream",
     "text": [
      "   A  B  C\n",
      "0  1  4  7\n",
      "1  2  5  8\n",
      "2  3  6  9\n"
     ]
    }
   ],
   "source": [
    "df = pd.DataFrame({'A': [1, 2, 3], 'B': [4, 5, 6], 'C': [7, 8, 9]})\n",
    "print(df)"
   ]
  },
  {
   "cell_type": "code",
   "execution_count": 6,
   "id": "82204bc0",
   "metadata": {},
   "outputs": [
    {
     "name": "stdout",
     "output_type": "stream",
     "text": [
      "   A  B  C\n",
      "1  1  4  7\n",
      "3  2  5  8\n",
      "5  3  6  9\n"
     ]
    }
   ],
   "source": [
    "new_index = pd.RangeIndex(start=1, step=2, stop=len(df)*2+1)\n",
    "df = df.set_index(new_index)\n",
    "print(df)"
   ]
  },
  {
   "cell_type": "markdown",
   "id": "9c010857",
   "metadata": {},
   "source": [
    "### Q3. You have a Pandas DataFrame df with a column named 'Values'. Write a Python function that iterates over the DataFrame and calculates the sum of the first three values in the 'Values' column. The function should print the sum to the console.\n",
    "\n",
    "### For example, if the 'Values' column of df contains the values [10, 20, 30, 40, 50], your function should calculate and print the sum of the first three values, which is 60.\n",
    "\n",
    "\n",
    "#### Ans:"
   ]
  },
  {
   "cell_type": "code",
   "execution_count": 7,
   "id": "9c92e37c",
   "metadata": {},
   "outputs": [
    {
     "name": "stdout",
     "output_type": "stream",
     "text": [
      "The sum of the first three values is: 60\n"
     ]
    }
   ],
   "source": [
    "def sum_first_three(df):\n",
    "    total = 0\n",
    "    for value in df['Values'].iloc[:3]:\n",
    "        total += value\n",
    "        \n",
    "    print('The sum of the first three values is:', total)\n",
    "    \n",
    "\n",
    "data = {'Values': [10, 20, 30, 40, 50]}\n",
    "df = pd.DataFrame(data)\n",
    "\n",
    "sum_first_three(df)"
   ]
  },
  {
   "cell_type": "markdown",
   "id": "e5dcc018",
   "metadata": {},
   "source": [
    "### Q4. Given a Pandas DataFrame df with a column 'Text', write a Python function to create a new column 'Word_Count' that contains the number of words in each row of the 'Text' column.\n",
    "\n",
    "#### Ans:"
   ]
  },
  {
   "cell_type": "code",
   "execution_count": 8,
   "id": "b6c8a61f",
   "metadata": {},
   "outputs": [
    {
     "name": "stdout",
     "output_type": "stream",
     "text": [
      "             Text  Word_Count\n",
      "0        AB CD EF           3\n",
      "1       1 - 2 - 3           5\n",
      "2  sample abc def           3\n"
     ]
    }
   ],
   "source": [
    "def count_words(df):\n",
    "    df['Word_Count'] = df['Text'].apply(lambda x: len(str(x).split()))\n",
    "    return df\n",
    "\n",
    "data = {'Text': ['AB CD EF', '1 - 2 - 3', 'sample abc def']}\n",
    "df = pd.DataFrame(data)\n",
    "\n",
    "df = count_words(df)\n",
    "\n",
    "print(df)"
   ]
  },
  {
   "cell_type": "markdown",
   "id": "678152e7",
   "metadata": {},
   "source": [
    "### Q5. How are DataFrame.size() and DataFrame.shape() different?\n",
    "\n"
   ]
  },
  {
   "cell_type": "markdown",
   "id": "f7bd53f6",
   "metadata": {},
   "source": [
    "#### Ans:\n",
    "DataFrame.size returns the total number of elements in the DataFrame, which is equal to the number of rows multiplied by the number of columns. This method returns a single integer value.\n",
    "DataFrame.shape returns a tuple of integers that represent the dimensions of the DataFrame. The first element of the tuple is the number of rows, and the second element is the number of columns."
   ]
  },
  {
   "cell_type": "code",
   "execution_count": 9,
   "id": "e188f34f",
   "metadata": {},
   "outputs": [
    {
     "name": "stdout",
     "output_type": "stream",
     "text": [
      "Size: 9\n",
      "Shape: (3, 3)\n"
     ]
    }
   ],
   "source": [
    "data = {'A': [1, 2, 3],\n",
    "        'B': [4, 5, 6],\n",
    "        'C': [7, 8, 9]}\n",
    "df = pd.DataFrame(data)\n",
    "\n",
    "size = df.size\n",
    "print('Size:', size)\n",
    "\n",
    "shape = df.shape\n",
    "print('Shape:', shape)"
   ]
  },
  {
   "cell_type": "markdown",
   "id": "a9642101",
   "metadata": {},
   "source": [
    "### Q6. Which function of pandas do we use to read an excel file?\n",
    "\n",
    "#### Ans:"
   ]
  },
  {
   "cell_type": "markdown",
   "id": "37fc99e1",
   "metadata": {},
   "source": [
    "In Pandas, we use the read_excel() function to read data from an Excel file. This function creates a DataFrame from the data in the Excel file, with one row per row in the Excel sheet.\n",
    "\n",
    "syntax: df = pd.read_excel('example.xlsx')"
   ]
  },
  {
   "cell_type": "markdown",
   "id": "04141e05",
   "metadata": {},
   "source": [
    "### Q7. You have a Pandas DataFrame df that contains a column named 'Email' that contains email addresses in the format 'username@domain.com'. Write a Python function that creates a new column 'Username' in df that contains only the username part of each email address.\n",
    "\n",
    "### The username is the part of the email address that appears before the '@' symbol. For example, if the email address is 'john.doe@example.com', the 'Username' column should contain 'john.doe'. Your function should extract the username from each email address and store it in the new 'Username' column.\n",
    "\n",
    "\n",
    "#### Ans:"
   ]
  },
  {
   "cell_type": "code",
   "execution_count": 10,
   "id": "497b5924",
   "metadata": {},
   "outputs": [
    {
     "name": "stdout",
     "output_type": "stream",
     "text": [
      "                  Email  Username\n",
      "0  john.doe@example.com  john.doe\n",
      "1   xyz.123@example.com   xyz.123\n",
      "2   abc.123@example.com   abc.123\n"
     ]
    }
   ],
   "source": [
    "def extract_username(df):\n",
    "    df['Username'] = df['Email'].apply(lambda x: x.split('@')[0])\n",
    "\n",
    "    return df\n",
    "\n",
    "data = {'Email': ['john.doe@example.com', 'xyz.123@example.com', 'abc.123@example.com']}\n",
    "df = pd.DataFrame(data)\n",
    "\n",
    "df = extract_username(df)\n",
    "\n",
    "print(df)"
   ]
  },
  {
   "cell_type": "markdown",
   "id": "14114b8b",
   "metadata": {},
   "source": [
    "### Q8. You have a Pandas DataFrame df with columns 'A', 'B', and 'C'. Write a Python function that selects all rows where the value in column 'A' is greater than 5 and the value in column 'B' is less than 10. The function should return a new DataFrame that contains only the selected rows.\n",
    "\n",
    "### For example, if df contains the following values:\n",
    "\n",
    "&nbsp;&nbsp;&nbsp; A &nbsp; B &nbsp; C\n",
    "\n",
    "0 &nbsp; 3 &nbsp; 5 &nbsp; 1\n",
    "\n",
    "1 &nbsp; 8 &nbsp; 2 &nbsp; 7\n",
    "\n",
    "2 &nbsp; 6 &nbsp; 9 &nbsp; 4\n",
    "\n",
    "3 &nbsp; 2 &nbsp; 3 &nbsp; 5\n",
    "\n",
    "4 &nbsp; 9 &nbsp; 1 &nbsp; 2 \n",
    "\n",
    "### Your function should select the following rows: A B C\n",
    "\n",
    "1 &nbsp; 8 &nbsp; 2 &nbsp; 7\n",
    "\n",
    "4 &nbsp; 9 &nbsp; 1 &nbsp; 2\n",
    "\n",
    "### The function should return a new DataFrame that contains only the selected rows.\n",
    "\n",
    "\n",
    "#### Ans:"
   ]
  },
  {
   "cell_type": "code",
   "execution_count": 11,
   "id": "8bdcf3cf",
   "metadata": {},
   "outputs": [
    {
     "name": "stdout",
     "output_type": "stream",
     "text": [
      "   A  B  C\n",
      "1  8  2  7\n",
      "2  6  9  4\n",
      "4  9  1  2\n"
     ]
    }
   ],
   "source": [
    "def select_rows(df):\n",
    "    selected_rows = df[(df['A'] > 5) & (df['B'] < 10)]\n",
    "    return selected_rows\n",
    "\n",
    "import pandas as pd\n",
    "df = pd.DataFrame({'A': [3, 8, 6, 2, 9], 'B': [5, 2, 9, 3, 1], 'C': [1, 7, 4, 5, 2]})\n",
    "\n",
    "selected_df = select_rows(df)\n",
    "\n",
    "print(selected_df)\n"
   ]
  },
  {
   "cell_type": "markdown",
   "id": "ad0139e9",
   "metadata": {},
   "source": [
    "### Q9. Given a Pandas DataFrame df with a column 'Values', write a Python function to calculate the mean, median, and standard deviation of the values in the 'Values' column.\n",
    "\n",
    "#### Ans:"
   ]
  },
  {
   "cell_type": "code",
   "execution_count": 12,
   "id": "b50857df",
   "metadata": {},
   "outputs": [
    {
     "name": "stdout",
     "output_type": "stream",
     "text": [
      "Mean: 39.285714285714285\n",
      "Median: 40.0\n",
      "Standard Deviation: 20.499709637897197\n"
     ]
    }
   ],
   "source": [
    "def calculate_stats(df):\n",
    "    mean_value = df['Values'].mean()\n",
    "    median_value = df['Values'].median()\n",
    "    std_value = df['Values'].std()\n",
    "    \n",
    "    print(f\"Mean: {mean_value}\")\n",
    "    print(f\"Median: {median_value}\")\n",
    "    print(f\"Standard Deviation: {std_value}\")\n",
    "\n",
    "df = pd.DataFrame({'Values': [10, 20, 30, 40, 50, 60, 65]})\n",
    "\n",
    "calculate_stats(df)"
   ]
  },
  {
   "cell_type": "markdown",
   "id": "008ece5d",
   "metadata": {},
   "source": [
    "### Q10. Given a Pandas DataFrame df with a column 'Sales' and a column 'Date', write a Python function to create a new column 'MovingAverage' that contains the moving average of the sales for the past 7 days for each row in the DataFrame. The moving average should be calculated using a window of size 7 and should include the current day.\n",
    "\n",
    "#### Ans:"
   ]
  },
  {
   "cell_type": "code",
   "execution_count": 13,
   "id": "47ca25b5",
   "metadata": {},
   "outputs": [
    {
     "name": "stdout",
     "output_type": "stream",
     "text": [
      "         Date  Sales  MovingAverage\n",
      "0  2023-04-01     10      10.000000\n",
      "1  2023-04-02     20      15.000000\n",
      "2  2023-04-03     15      15.000000\n",
      "3  2023-04-04     30      18.750000\n",
      "4  2023-04-05     25      20.000000\n",
      "5  2023-04-06     35      22.500000\n",
      "6  2023-04-07     40      25.000000\n",
      "7  2023-04-08     50      30.714286\n",
      "8  2023-04-09     45      34.285714\n",
      "9  2023-04-10     55      40.000000\n",
      "10 2023-04-11     60      44.285714\n",
      "11 2023-04-12     65      50.000000\n",
      "12 2023-04-13     70      55.000000\n",
      "13 2023-04-14     80      60.714286\n",
      "14 2023-04-15     75      64.285714\n",
      "15 2023-04-16     85      70.000000\n",
      "16 2023-04-17     90      75.000000\n",
      "17 2023-04-18     95      80.000000\n",
      "18 2023-04-19    100      85.000000\n",
      "19 2023-04-20    110      90.714286\n",
      "20 2023-04-21    105      94.285714\n",
      "21 2023-04-22    120     100.714286\n",
      "22 2023-04-23    130     107.142857\n",
      "23 2023-04-24    125     112.142857\n",
      "24 2023-04-25    140     118.571429\n",
      "25 2023-04-26    150     125.714286\n",
      "26 2023-04-27    123     127.571429\n",
      "27 2023-04-28    143     133.000000\n",
      "28 2023-04-29     78     127.000000\n",
      "29 2023-04-30     98     122.428571\n"
     ]
    }
   ],
   "source": [
    "def add_moving_average(df):\n",
    "    ma = df['Sales'].rolling(window=7, min_periods=1).mean()\n",
    "    \n",
    "    df['MovingAverage'] = ma\n",
    "    \n",
    "    return df\n",
    "\n",
    "df = pd.DataFrame({\n",
    "    'Date': pd.date_range(start='2023-04-01', end='2023-04-30'),\n",
    "    'Sales': [10, 20, 15, 30, 25, 35, 40, 50, 45, 55, 60, 65, 70, 80, 75, 85, 90, 95, 100, 110, 105, 120, 130, 125, 140, 150, 123, 143, 78, 98]\n",
    "})\n",
    "\n",
    "df = add_moving_average(df)\n",
    "\n",
    "print(df)\n"
   ]
  },
  {
   "cell_type": "markdown",
   "id": "70340c99",
   "metadata": {},
   "source": [
    "### Q11. You have a Pandas DataFrame df with a column 'Date'. Write a Python function that creates a new column 'Weekday' in the DataFrame. The 'Weekday' column should contain the weekday name (e.g. Monday, Tuesday) corresponding to each date in the 'Date' column.\n",
    "\n",
    "### For example, if df contains the following values:\n",
    "\n",
    "&nbsp; &nbsp; **Date**\n",
    "\n",
    "0 2023-01-01\n",
    "\n",
    "1 2023-01-02\n",
    "\n",
    "2 2023-01-03\n",
    "\n",
    "3 2023-01-04\n",
    "\n",
    "4 2023-01-05\n",
    "\n",
    "### Your function should create the following DataFrame:\n",
    "\n",
    "\n",
    " &nbsp; **Date**&nbsp; &nbsp;&nbsp;&nbsp;&nbsp;&nbsp;&nbsp;&nbsp;&nbsp;&nbsp;&nbsp;  **Weekday**\n",
    "\n",
    "0 2023-01-01 &nbsp;&nbsp;&nbsp; Sunday\n",
    "\n",
    "1 2023-01-02 &nbsp;&nbsp;&nbsp; Monday\n",
    "\n",
    "2 2023-01-03 &nbsp;&nbsp;&nbsp; Tuesday\n",
    "\n",
    "3 2023-01-04 &nbsp;&nbsp;&nbsp; Wednesday\n",
    "\n",
    "4 2023-01-05 &nbsp;&nbsp;&nbsp; Thursday\n",
    "\n",
    "### The function should return the modified DataFrame.\n",
    "#### Ans:"
   ]
  },
  {
   "cell_type": "code",
   "execution_count": 14,
   "id": "fd6633dd",
   "metadata": {},
   "outputs": [
    {
     "name": "stdout",
     "output_type": "stream",
     "text": [
      "        Date    Weekday\n",
      "0 2023-01-01     Sunday\n",
      "1 2023-01-02     Monday\n",
      "2 2023-01-03    Tuesday\n",
      "3 2023-01-04  Wednesday\n",
      "4 2023-01-05   Thursday\n",
      "5 2023-01-06     Friday\n",
      "6 2023-01-07   Saturday\n"
     ]
    }
   ],
   "source": [
    "def add_weekday_column(df):\n",
    "    df['Date'] = pd.to_datetime(df['Date'])\n",
    "    \n",
    "    df['Weekday'] = df['Date'].dt.day_name()\n",
    "    \n",
    "    return df\n",
    "\n",
    "df = pd.DataFrame({\n",
    "    'Date': ['2023-01-01', '2023-01-02', '2023-01-03', '2023-01-04', '2023-01-05', '2023-01-06', '2023-01-07']})\n",
    "\n",
    "df = add_weekday_column(df)\n",
    "\n",
    "print(df)\n"
   ]
  },
  {
   "cell_type": "markdown",
   "id": "ca726043",
   "metadata": {},
   "source": [
    "### Q12. Given a Pandas DataFrame df with a column 'Date' that contains timestamps, write a Python function to select all rows where the date is between '2023-01-01' and '2023-01-31'.\n",
    "\n",
    "#### Ans:"
   ]
  },
  {
   "cell_type": "code",
   "execution_count": 15,
   "id": "562389b1",
   "metadata": {},
   "outputs": [
    {
     "name": "stdout",
     "output_type": "stream",
     "text": [
      "         Date\n",
      "0  2023-01-01\n",
      "1  2023-01-02\n",
      "2  2023-01-03\n",
      "3  2023-01-04\n",
      "4  2023-01-05\n",
      "5  2023-01-06\n",
      "6  2023-01-07\n",
      "7  2023-01-08\n",
      "8  2023-01-09\n",
      "9  2023-01-10\n",
      "10 2023-01-11\n",
      "11 2023-01-12\n",
      "12 2023-01-13\n",
      "13 2023-01-14\n",
      "14 2023-01-15\n",
      "15 2023-01-16\n",
      "16 2023-01-17\n",
      "17 2023-01-18\n",
      "18 2023-01-19\n",
      "19 2023-01-20\n",
      "20 2023-01-21\n",
      "21 2023-01-22\n",
      "22 2023-01-23\n",
      "23 2023-01-24\n",
      "24 2023-01-25\n",
      "25 2023-01-26\n",
      "26 2023-01-27\n",
      "27 2023-01-28\n",
      "28 2023-01-29\n",
      "29 2023-01-30\n",
      "30 2023-01-31\n"
     ]
    }
   ],
   "source": [
    "def select_date_range(df):\n",
    "    df['Date'] = pd.to_datetime(df['Date'])\n",
    "    \n",
    "    start_date = '2023-01-01'\n",
    "    end_date = '2023-01-31'\n",
    "    \n",
    "    mask = (df['Date'] >= start_date) & (df['Date'] <= end_date)\n",
    "    selected_rows = df.loc[mask]\n",
    "    \n",
    "    return selected_rows\n",
    "\n",
    "df = pd.DataFrame({'Date': pd.date_range(start='2023-01-01', end='2023-02-28')})\n",
    "df = select_date_range(df)\n",
    "print(df)\n"
   ]
  },
  {
   "cell_type": "markdown",
   "id": "a81c5151",
   "metadata": {},
   "source": [
    "### Q13. To use the basic functions of pandas, what is the first and foremost necessary library that needs to be imported?\n",
    "#### Ans:"
   ]
  },
  {
   "cell_type": "markdown",
   "id": "afd2f16e",
   "metadata": {},
   "source": [
    "The first and foremost necessary library that needs to be imported to use the basic functions of pandas is the pandas library itself. The standard way to import pandas is:\n",
    "\n",
    "import pandas as pd\n",
    "\n",
    "Here pd is the alias"
   ]
  }
 ],
 "metadata": {
  "kernelspec": {
   "display_name": "Python 3 (ipykernel)",
   "language": "python",
   "name": "python3"
  },
  "language_info": {
   "codemirror_mode": {
    "name": "ipython",
    "version": 3
   },
   "file_extension": ".py",
   "mimetype": "text/x-python",
   "name": "python",
   "nbconvert_exporter": "python",
   "pygments_lexer": "ipython3",
   "version": "3.9.13"
  }
 },
 "nbformat": 4,
 "nbformat_minor": 5
}
